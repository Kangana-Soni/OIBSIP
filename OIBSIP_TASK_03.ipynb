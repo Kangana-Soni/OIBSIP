{
 "cells": [
  {
   "cell_type": "code",
   "execution_count": 1,
   "id": "d85c7f92",
   "metadata": {},
   "outputs": [],
   "source": [
    "#importing libraries\n",
    "import pandas as pd\n",
    "import numpy as np\n",
    "import matplotlib.pyplot as plt\n",
    "import seaborn as sb"
   ]
  },
  {
   "cell_type": "code",
   "execution_count": 2,
   "id": "f59aef86",
   "metadata": {},
   "outputs": [],
   "source": [
    "Col_names= ['Car_Name','Year','Selling_Price','Present_Price','Kms_Driven','Fuel_Type','Seller_Type','Transmission','Owner']\n",
    "#Read Dataset\n",
    "df=pd.read_csv(\"car data.csv\",header=None,names=Col_names)"
   ]
  },
  {
   "cell_type": "code",
   "execution_count": 3,
   "id": "b468ed47",
   "metadata": {},
   "outputs": [
    {
     "data": {
      "text/html": [
       "<div>\n",
       "<style scoped>\n",
       "    .dataframe tbody tr th:only-of-type {\n",
       "        vertical-align: middle;\n",
       "    }\n",
       "\n",
       "    .dataframe tbody tr th {\n",
       "        vertical-align: top;\n",
       "    }\n",
       "\n",
       "    .dataframe thead th {\n",
       "        text-align: right;\n",
       "    }\n",
       "</style>\n",
       "<table border=\"1\" class=\"dataframe\">\n",
       "  <thead>\n",
       "    <tr style=\"text-align: right;\">\n",
       "      <th></th>\n",
       "      <th>Car_Name</th>\n",
       "      <th>Year</th>\n",
       "      <th>Selling_Price</th>\n",
       "      <th>Present_Price</th>\n",
       "      <th>Kms_Driven</th>\n",
       "      <th>Fuel_Type</th>\n",
       "      <th>Seller_Type</th>\n",
       "      <th>Transmission</th>\n",
       "      <th>Owner</th>\n",
       "    </tr>\n",
       "  </thead>\n",
       "  <tbody>\n",
       "    <tr>\n",
       "      <th>0</th>\n",
       "      <td>Car_Name</td>\n",
       "      <td>Year</td>\n",
       "      <td>Selling_Price</td>\n",
       "      <td>Present_Price</td>\n",
       "      <td>Kms_Driven</td>\n",
       "      <td>Fuel_Type</td>\n",
       "      <td>Seller_Type</td>\n",
       "      <td>Transmission</td>\n",
       "      <td>Owner</td>\n",
       "    </tr>\n",
       "    <tr>\n",
       "      <th>1</th>\n",
       "      <td>ritz</td>\n",
       "      <td>2014</td>\n",
       "      <td>3.35</td>\n",
       "      <td>5.59</td>\n",
       "      <td>27000</td>\n",
       "      <td>Petrol</td>\n",
       "      <td>Dealer</td>\n",
       "      <td>Manual</td>\n",
       "      <td>0</td>\n",
       "    </tr>\n",
       "    <tr>\n",
       "      <th>2</th>\n",
       "      <td>sx4</td>\n",
       "      <td>2013</td>\n",
       "      <td>4.75</td>\n",
       "      <td>9.54</td>\n",
       "      <td>43000</td>\n",
       "      <td>Diesel</td>\n",
       "      <td>Dealer</td>\n",
       "      <td>Manual</td>\n",
       "      <td>0</td>\n",
       "    </tr>\n",
       "    <tr>\n",
       "      <th>3</th>\n",
       "      <td>ciaz</td>\n",
       "      <td>2017</td>\n",
       "      <td>7.25</td>\n",
       "      <td>9.85</td>\n",
       "      <td>6900</td>\n",
       "      <td>Petrol</td>\n",
       "      <td>Dealer</td>\n",
       "      <td>Manual</td>\n",
       "      <td>0</td>\n",
       "    </tr>\n",
       "    <tr>\n",
       "      <th>4</th>\n",
       "      <td>wagon r</td>\n",
       "      <td>2011</td>\n",
       "      <td>2.85</td>\n",
       "      <td>4.15</td>\n",
       "      <td>5200</td>\n",
       "      <td>Petrol</td>\n",
       "      <td>Dealer</td>\n",
       "      <td>Manual</td>\n",
       "      <td>0</td>\n",
       "    </tr>\n",
       "  </tbody>\n",
       "</table>\n",
       "</div>"
      ],
      "text/plain": [
       "   Car_Name  Year  Selling_Price  Present_Price  Kms_Driven  Fuel_Type  \\\n",
       "0  Car_Name  Year  Selling_Price  Present_Price  Kms_Driven  Fuel_Type   \n",
       "1      ritz  2014           3.35           5.59       27000     Petrol   \n",
       "2       sx4  2013           4.75           9.54       43000     Diesel   \n",
       "3      ciaz  2017           7.25           9.85        6900     Petrol   \n",
       "4   wagon r  2011           2.85           4.15        5200     Petrol   \n",
       "\n",
       "   Seller_Type  Transmission  Owner  \n",
       "0  Seller_Type  Transmission  Owner  \n",
       "1       Dealer        Manual      0  \n",
       "2       Dealer        Manual      0  \n",
       "3       Dealer        Manual      0  \n",
       "4       Dealer        Manual      0  "
      ]
     },
     "execution_count": 3,
     "metadata": {},
     "output_type": "execute_result"
    }
   ],
   "source": [
    "df.head()"
   ]
  },
  {
   "cell_type": "code",
   "execution_count": 4,
   "id": "f3844dc1",
   "metadata": {},
   "outputs": [
    {
     "data": {
      "text/html": [
       "<div>\n",
       "<style scoped>\n",
       "    .dataframe tbody tr th:only-of-type {\n",
       "        vertical-align: middle;\n",
       "    }\n",
       "\n",
       "    .dataframe tbody tr th {\n",
       "        vertical-align: top;\n",
       "    }\n",
       "\n",
       "    .dataframe thead th {\n",
       "        text-align: right;\n",
       "    }\n",
       "</style>\n",
       "<table border=\"1\" class=\"dataframe\">\n",
       "  <thead>\n",
       "    <tr style=\"text-align: right;\">\n",
       "      <th></th>\n",
       "      <th>Car_Name</th>\n",
       "      <th>Year</th>\n",
       "      <th>Selling_Price</th>\n",
       "      <th>Present_Price</th>\n",
       "      <th>Kms_Driven</th>\n",
       "      <th>Fuel_Type</th>\n",
       "      <th>Seller_Type</th>\n",
       "      <th>Transmission</th>\n",
       "      <th>Owner</th>\n",
       "    </tr>\n",
       "  </thead>\n",
       "  <tbody>\n",
       "    <tr>\n",
       "      <th>297</th>\n",
       "      <td>city</td>\n",
       "      <td>2016</td>\n",
       "      <td>9.5</td>\n",
       "      <td>11.6</td>\n",
       "      <td>33988</td>\n",
       "      <td>Diesel</td>\n",
       "      <td>Dealer</td>\n",
       "      <td>Manual</td>\n",
       "      <td>0</td>\n",
       "    </tr>\n",
       "    <tr>\n",
       "      <th>298</th>\n",
       "      <td>brio</td>\n",
       "      <td>2015</td>\n",
       "      <td>4</td>\n",
       "      <td>5.9</td>\n",
       "      <td>60000</td>\n",
       "      <td>Petrol</td>\n",
       "      <td>Dealer</td>\n",
       "      <td>Manual</td>\n",
       "      <td>0</td>\n",
       "    </tr>\n",
       "    <tr>\n",
       "      <th>299</th>\n",
       "      <td>city</td>\n",
       "      <td>2009</td>\n",
       "      <td>3.35</td>\n",
       "      <td>11</td>\n",
       "      <td>87934</td>\n",
       "      <td>Petrol</td>\n",
       "      <td>Dealer</td>\n",
       "      <td>Manual</td>\n",
       "      <td>0</td>\n",
       "    </tr>\n",
       "    <tr>\n",
       "      <th>300</th>\n",
       "      <td>city</td>\n",
       "      <td>2017</td>\n",
       "      <td>11.5</td>\n",
       "      <td>12.5</td>\n",
       "      <td>9000</td>\n",
       "      <td>Diesel</td>\n",
       "      <td>Dealer</td>\n",
       "      <td>Manual</td>\n",
       "      <td>0</td>\n",
       "    </tr>\n",
       "    <tr>\n",
       "      <th>301</th>\n",
       "      <td>brio</td>\n",
       "      <td>2016</td>\n",
       "      <td>5.3</td>\n",
       "      <td>5.9</td>\n",
       "      <td>5464</td>\n",
       "      <td>Petrol</td>\n",
       "      <td>Dealer</td>\n",
       "      <td>Manual</td>\n",
       "      <td>0</td>\n",
       "    </tr>\n",
       "  </tbody>\n",
       "</table>\n",
       "</div>"
      ],
      "text/plain": [
       "    Car_Name  Year Selling_Price Present_Price Kms_Driven Fuel_Type  \\\n",
       "297     city  2016           9.5          11.6      33988    Diesel   \n",
       "298     brio  2015             4           5.9      60000    Petrol   \n",
       "299     city  2009          3.35            11      87934    Petrol   \n",
       "300     city  2017          11.5          12.5       9000    Diesel   \n",
       "301     brio  2016           5.3           5.9       5464    Petrol   \n",
       "\n",
       "    Seller_Type Transmission Owner  \n",
       "297      Dealer       Manual     0  \n",
       "298      Dealer       Manual     0  \n",
       "299      Dealer       Manual     0  \n",
       "300      Dealer       Manual     0  \n",
       "301      Dealer       Manual     0  "
      ]
     },
     "execution_count": 4,
     "metadata": {},
     "output_type": "execute_result"
    }
   ],
   "source": [
    "df.tail()"
   ]
  },
  {
   "cell_type": "code",
   "execution_count": 5,
   "id": "ea09a161",
   "metadata": {},
   "outputs": [
    {
     "name": "stdout",
     "output_type": "stream",
     "text": [
      "<class 'pandas.core.frame.DataFrame'>\n",
      "RangeIndex: 302 entries, 0 to 301\n",
      "Data columns (total 9 columns):\n",
      " #   Column         Non-Null Count  Dtype \n",
      "---  ------         --------------  ----- \n",
      " 0   Car_Name       302 non-null    object\n",
      " 1   Year           302 non-null    object\n",
      " 2   Selling_Price  302 non-null    object\n",
      " 3   Present_Price  302 non-null    object\n",
      " 4   Kms_Driven     302 non-null    object\n",
      " 5   Fuel_Type      302 non-null    object\n",
      " 6   Seller_Type    302 non-null    object\n",
      " 7   Transmission   302 non-null    object\n",
      " 8   Owner          302 non-null    object\n",
      "dtypes: object(9)\n",
      "memory usage: 21.4+ KB\n"
     ]
    }
   ],
   "source": [
    "df.info()"
   ]
  },
  {
   "cell_type": "code",
   "execution_count": 6,
   "id": "89c1842a",
   "metadata": {},
   "outputs": [
    {
     "data": {
      "text/html": [
       "<div>\n",
       "<style scoped>\n",
       "    .dataframe tbody tr th:only-of-type {\n",
       "        vertical-align: middle;\n",
       "    }\n",
       "\n",
       "    .dataframe tbody tr th {\n",
       "        vertical-align: top;\n",
       "    }\n",
       "\n",
       "    .dataframe thead th {\n",
       "        text-align: right;\n",
       "    }\n",
       "</style>\n",
       "<table border=\"1\" class=\"dataframe\">\n",
       "  <thead>\n",
       "    <tr style=\"text-align: right;\">\n",
       "      <th></th>\n",
       "      <th>Car_Name</th>\n",
       "      <th>Year</th>\n",
       "      <th>Selling_Price</th>\n",
       "      <th>Present_Price</th>\n",
       "      <th>Kms_Driven</th>\n",
       "      <th>Fuel_Type</th>\n",
       "      <th>Seller_Type</th>\n",
       "      <th>Transmission</th>\n",
       "      <th>Owner</th>\n",
       "    </tr>\n",
       "  </thead>\n",
       "  <tbody>\n",
       "    <tr>\n",
       "      <th>count</th>\n",
       "      <td>302</td>\n",
       "      <td>302</td>\n",
       "      <td>302</td>\n",
       "      <td>302</td>\n",
       "      <td>302</td>\n",
       "      <td>302</td>\n",
       "      <td>302</td>\n",
       "      <td>302</td>\n",
       "      <td>302</td>\n",
       "    </tr>\n",
       "    <tr>\n",
       "      <th>unique</th>\n",
       "      <td>99</td>\n",
       "      <td>17</td>\n",
       "      <td>157</td>\n",
       "      <td>148</td>\n",
       "      <td>207</td>\n",
       "      <td>4</td>\n",
       "      <td>3</td>\n",
       "      <td>3</td>\n",
       "      <td>4</td>\n",
       "    </tr>\n",
       "    <tr>\n",
       "      <th>top</th>\n",
       "      <td>city</td>\n",
       "      <td>2015</td>\n",
       "      <td>0.45</td>\n",
       "      <td>9.4</td>\n",
       "      <td>45000</td>\n",
       "      <td>Petrol</td>\n",
       "      <td>Dealer</td>\n",
       "      <td>Manual</td>\n",
       "      <td>0</td>\n",
       "    </tr>\n",
       "    <tr>\n",
       "      <th>freq</th>\n",
       "      <td>26</td>\n",
       "      <td>61</td>\n",
       "      <td>8</td>\n",
       "      <td>15</td>\n",
       "      <td>9</td>\n",
       "      <td>239</td>\n",
       "      <td>195</td>\n",
       "      <td>261</td>\n",
       "      <td>290</td>\n",
       "    </tr>\n",
       "  </tbody>\n",
       "</table>\n",
       "</div>"
      ],
      "text/plain": [
       "       Car_Name  Year Selling_Price Present_Price Kms_Driven Fuel_Type  \\\n",
       "count       302   302           302           302        302       302   \n",
       "unique       99    17           157           148        207         4   \n",
       "top        city  2015          0.45           9.4      45000    Petrol   \n",
       "freq         26    61             8            15          9       239   \n",
       "\n",
       "       Seller_Type Transmission Owner  \n",
       "count          302          302   302  \n",
       "unique           3            3     4  \n",
       "top         Dealer       Manual     0  \n",
       "freq           195          261   290  "
      ]
     },
     "execution_count": 6,
     "metadata": {},
     "output_type": "execute_result"
    }
   ],
   "source": [
    "df.describe()"
   ]
  },
  {
   "cell_type": "code",
   "execution_count": 7,
   "id": "272d11e7",
   "metadata": {},
   "outputs": [
    {
     "data": {
      "text/plain": [
       "Car_Name         0\n",
       "Year             0\n",
       "Selling_Price    0\n",
       "Present_Price    0\n",
       "Kms_Driven       0\n",
       "Fuel_Type        0\n",
       "Seller_Type      0\n",
       "Transmission     0\n",
       "Owner            0\n",
       "dtype: int64"
      ]
     },
     "execution_count": 7,
     "metadata": {},
     "output_type": "execute_result"
    }
   ],
   "source": [
    "df.isnull().sum()"
   ]
  },
  {
   "cell_type": "code",
   "execution_count": 8,
   "id": "6023daa4",
   "metadata": {},
   "outputs": [
    {
     "data": {
      "text/plain": [
       "Car_Name          99\n",
       "Year              17\n",
       "Selling_Price    157\n",
       "Present_Price    148\n",
       "Kms_Driven       207\n",
       "Fuel_Type          4\n",
       "Seller_Type        3\n",
       "Transmission       3\n",
       "Owner              4\n",
       "dtype: int64"
      ]
     },
     "execution_count": 8,
     "metadata": {},
     "output_type": "execute_result"
    }
   ],
   "source": [
    "df.nunique()"
   ]
  },
  {
   "cell_type": "code",
   "execution_count": 20,
   "id": "c14fc325",
   "metadata": {},
   "outputs": [],
   "source": [
    "#Label encoding \n",
    "from sklearn.preprocessing import LabelEncoder\n",
    "lb=LabelEncoder()\n",
    "df['Car_Name']=lb.fit_transform(df['Car_Name'])\n",
    "df['Year']=lb.fit_transform(df['Year'])\n",
    "df['Kms_Driven']=lb.fit_transform(df['Kms_Driven'])\n",
    "df['Fuel_Type']=lb.fit_transform(df['Fuel_Type'])\n",
    "df['Seller_Type']=lb.fit_transform(df['Seller_Type'])\n",
    "df['Transmission']=lb.fit_transform(df['Transmission'])\n",
    "df['Owner']=lb.fit_transform(df['Owner'])\n",
    "df['Present_Price']=lb.fit_transform(df['Present_Price'])"
   ]
  },
  {
   "cell_type": "code",
   "execution_count": 21,
   "id": "c5a35a4d",
   "metadata": {},
   "outputs": [],
   "source": [
    "#defining X and Y\n",
    "feature_cols = ['Car_Name','Year','Present_Price','Kms_Driven','Fuel_Type','Seller_Type','Transmission','Owner']\n",
    "Extraction_cols=['Selling_Price']\n",
    "X = df[feature_cols]# Features\n",
    "y = df[Extraction_cols] # Target variable"
   ]
  },
  {
   "cell_type": "code",
   "execution_count": 22,
   "id": "607de2c0",
   "metadata": {},
   "outputs": [],
   "source": [
    "#Importing Model\n",
    "from sklearn.tree import DecisionTreeClassifier # Import Decision Tree Classifier\n",
    "from sklearn.model_selection import train_test_split # Import train_test_split function\n",
    "from sklearn import metrics #Import scikit-learn metrics module for accuracy calculation"
   ]
  },
  {
   "cell_type": "code",
   "execution_count": 23,
   "id": "836fec61",
   "metadata": {},
   "outputs": [],
   "source": [
    "X_train, X_test, y_train, y_test = train_test_split(X, y, test_size=0.4, random_state=0)"
   ]
  },
  {
   "cell_type": "code",
   "execution_count": 24,
   "id": "1a884664",
   "metadata": {},
   "outputs": [],
   "source": [
    "# Create Decision Tree classifer object\n",
    "clf = DecisionTreeClassifier()\n",
    "\n",
    "# Train Decision Tree Classifer\n",
    "clf = clf.fit(X_train,y_train)\n",
    "\n",
    "#Predict the response for test dataset\n",
    "y_pred = clf.predict(X_test)"
   ]
  },
  {
   "cell_type": "code",
   "execution_count": 25,
   "id": "043129c7",
   "metadata": {},
   "outputs": [
    {
     "name": "stdout",
     "output_type": "stream",
     "text": [
      "Decision Tree Model accuracy score: 0.0744\n"
     ]
    }
   ],
   "source": [
    "from sklearn.metrics import accuracy_score\n",
    "accuracy=accuracy_score(y_test,y_pred)\n",
    "print('Decision Tree Model accuracy score: {0:0.4f}'.format(accuracy_score(y_test,y_pred)))"
   ]
  },
  {
   "cell_type": "code",
   "execution_count": 26,
   "id": "3c6f4668",
   "metadata": {},
   "outputs": [],
   "source": [
    "Classifier=DecisionTreeClassifier(criterion='entropy',random_state=0)"
   ]
  },
  {
   "cell_type": "code",
   "execution_count": 27,
   "id": "907ce677",
   "metadata": {},
   "outputs": [
    {
     "data": {
      "text/html": [
       "<style>#sk-container-id-1 {color: black;background-color: white;}#sk-container-id-1 pre{padding: 0;}#sk-container-id-1 div.sk-toggleable {background-color: white;}#sk-container-id-1 label.sk-toggleable__label {cursor: pointer;display: block;width: 100%;margin-bottom: 0;padding: 0.3em;box-sizing: border-box;text-align: center;}#sk-container-id-1 label.sk-toggleable__label-arrow:before {content: \"▸\";float: left;margin-right: 0.25em;color: #696969;}#sk-container-id-1 label.sk-toggleable__label-arrow:hover:before {color: black;}#sk-container-id-1 div.sk-estimator:hover label.sk-toggleable__label-arrow:before {color: black;}#sk-container-id-1 div.sk-toggleable__content {max-height: 0;max-width: 0;overflow: hidden;text-align: left;background-color: #f0f8ff;}#sk-container-id-1 div.sk-toggleable__content pre {margin: 0.2em;color: black;border-radius: 0.25em;background-color: #f0f8ff;}#sk-container-id-1 input.sk-toggleable__control:checked~div.sk-toggleable__content {max-height: 200px;max-width: 100%;overflow: auto;}#sk-container-id-1 input.sk-toggleable__control:checked~label.sk-toggleable__label-arrow:before {content: \"▾\";}#sk-container-id-1 div.sk-estimator input.sk-toggleable__control:checked~label.sk-toggleable__label {background-color: #d4ebff;}#sk-container-id-1 div.sk-label input.sk-toggleable__control:checked~label.sk-toggleable__label {background-color: #d4ebff;}#sk-container-id-1 input.sk-hidden--visually {border: 0;clip: rect(1px 1px 1px 1px);clip: rect(1px, 1px, 1px, 1px);height: 1px;margin: -1px;overflow: hidden;padding: 0;position: absolute;width: 1px;}#sk-container-id-1 div.sk-estimator {font-family: monospace;background-color: #f0f8ff;border: 1px dotted black;border-radius: 0.25em;box-sizing: border-box;margin-bottom: 0.5em;}#sk-container-id-1 div.sk-estimator:hover {background-color: #d4ebff;}#sk-container-id-1 div.sk-parallel-item::after {content: \"\";width: 100%;border-bottom: 1px solid gray;flex-grow: 1;}#sk-container-id-1 div.sk-label:hover label.sk-toggleable__label {background-color: #d4ebff;}#sk-container-id-1 div.sk-serial::before {content: \"\";position: absolute;border-left: 1px solid gray;box-sizing: border-box;top: 0;bottom: 0;left: 50%;z-index: 0;}#sk-container-id-1 div.sk-serial {display: flex;flex-direction: column;align-items: center;background-color: white;padding-right: 0.2em;padding-left: 0.2em;position: relative;}#sk-container-id-1 div.sk-item {position: relative;z-index: 1;}#sk-container-id-1 div.sk-parallel {display: flex;align-items: stretch;justify-content: center;background-color: white;position: relative;}#sk-container-id-1 div.sk-item::before, #sk-container-id-1 div.sk-parallel-item::before {content: \"\";position: absolute;border-left: 1px solid gray;box-sizing: border-box;top: 0;bottom: 0;left: 50%;z-index: -1;}#sk-container-id-1 div.sk-parallel-item {display: flex;flex-direction: column;z-index: 1;position: relative;background-color: white;}#sk-container-id-1 div.sk-parallel-item:first-child::after {align-self: flex-end;width: 50%;}#sk-container-id-1 div.sk-parallel-item:last-child::after {align-self: flex-start;width: 50%;}#sk-container-id-1 div.sk-parallel-item:only-child::after {width: 0;}#sk-container-id-1 div.sk-dashed-wrapped {border: 1px dashed gray;margin: 0 0.4em 0.5em 0.4em;box-sizing: border-box;padding-bottom: 0.4em;background-color: white;}#sk-container-id-1 div.sk-label label {font-family: monospace;font-weight: bold;display: inline-block;line-height: 1.2em;}#sk-container-id-1 div.sk-label-container {text-align: center;}#sk-container-id-1 div.sk-container {/* jupyter's `normalize.less` sets `[hidden] { display: none; }` but bootstrap.min.css set `[hidden] { display: none !important; }` so we also need the `!important` here to be able to override the default hidden behavior on the sphinx rendered scikit-learn.org. See: https://github.com/scikit-learn/scikit-learn/issues/21755 */display: inline-block !important;position: relative;}#sk-container-id-1 div.sk-text-repr-fallback {display: none;}</style><div id=\"sk-container-id-1\" class=\"sk-top-container\"><div class=\"sk-text-repr-fallback\"><pre>DecisionTreeClassifier(criterion=&#x27;entropy&#x27;, random_state=0)</pre><b>In a Jupyter environment, please rerun this cell to show the HTML representation or trust the notebook. <br />On GitHub, the HTML representation is unable to render, please try loading this page with nbviewer.org.</b></div><div class=\"sk-container\" hidden><div class=\"sk-item\"><div class=\"sk-estimator sk-toggleable\"><input class=\"sk-toggleable__control sk-hidden--visually\" id=\"sk-estimator-id-1\" type=\"checkbox\" checked><label for=\"sk-estimator-id-1\" class=\"sk-toggleable__label sk-toggleable__label-arrow\">DecisionTreeClassifier</label><div class=\"sk-toggleable__content\"><pre>DecisionTreeClassifier(criterion=&#x27;entropy&#x27;, random_state=0)</pre></div></div></div></div></div>"
      ],
      "text/plain": [
       "DecisionTreeClassifier(criterion='entropy', random_state=0)"
      ]
     },
     "execution_count": 27,
     "metadata": {},
     "output_type": "execute_result"
    }
   ],
   "source": [
    "Classifier.fit(X_train,y_train)"
   ]
  },
  {
   "cell_type": "code",
   "execution_count": 28,
   "id": "3ae8397f",
   "metadata": {},
   "outputs": [],
   "source": [
    "y_pred=Classifier.predict(X_test)"
   ]
  },
  {
   "cell_type": "code",
   "execution_count": null,
   "id": "443b2726",
   "metadata": {},
   "outputs": [],
   "source": [
    "from sklearn.metrics import confusion_matrix\n",
    "cm=confusion_matrix(y_test,y_pred)\n",
    "plt.figure(figsize=(40,40))\n",
    "sb.heatmap(cm,annot=True,fmt=\".0f\",linewidths=0.5,square=True,cmap='Blues');\n",
    "plt.ylabel('Actual label');\n",
    "plt.xlabel('Predicted label');\n",
    "all_sample_title='Confusion Matrix - score:' +str(accuracy_score(y_test,y_pred))\n",
    "plt.title(all_sample_title,size=15);\n",
    "plt.show()"
   ]
  },
  {
   "cell_type": "code",
   "execution_count": 30,
   "id": "4e74ed73",
   "metadata": {},
   "outputs": [
    {
     "name": "stdout",
     "output_type": "stream",
     "text": [
      "              precision    recall  f1-score   support\n",
      "\n",
      "         0.1       0.00      0.00      0.00         1\n",
      "        0.16       0.00      0.00      0.00         1\n",
      "         0.2       0.00      0.00      0.00         1\n",
      "        0.25       0.00      0.00      0.00         1\n",
      "        0.27       0.00      0.00      0.00         1\n",
      "         0.3       0.00      0.00      0.00         2\n",
      "        0.35       0.00      0.00      0.00         0\n",
      "        0.38       0.00      0.00      0.00         2\n",
      "         0.4       0.50      1.00      0.67         1\n",
      "        0.42       0.00      0.00      0.00         1\n",
      "        0.45       0.33      0.50      0.40         4\n",
      "        0.48       0.00      0.00      0.00         3\n",
      "         0.5       0.00      0.00      0.00         3\n",
      "        0.51       0.00      0.00      0.00         0\n",
      "        0.52       0.00      0.00      0.00         0\n",
      "         0.6       0.17      0.25      0.20         4\n",
      "        0.65       0.00      0.00      0.00         3\n",
      "        0.72       0.00      0.00      0.00         1\n",
      "        0.75       0.00      0.00      0.00         1\n",
      "        0.78       0.00      0.00      0.00         0\n",
      "         0.8       0.00      0.00      0.00         1\n",
      "         0.9       0.00      0.00      0.00         1\n",
      "        0.95       0.00      0.00      0.00         0\n",
      "           1       0.00      0.00      0.00         1\n",
      "        1.05       0.33      1.00      0.50         1\n",
      "         1.1       0.00      0.00      0.00         1\n",
      "        1.11       0.00      0.00      0.00         1\n",
      "        1.15       0.00      0.00      0.00         0\n",
      "         1.2       0.00      0.00      0.00         1\n",
      "        1.25       0.00      0.00      0.00         2\n",
      "        1.35       0.00      0.00      0.00         1\n",
      "        1.65       0.00      0.00      0.00         1\n",
      "        1.75       0.00      0.00      0.00         1\n",
      "       10.11       0.00      0.00      0.00         1\n",
      "        10.9       0.00      0.00      0.00         0\n",
      "       11.25       0.00      0.00      0.00         2\n",
      "       11.45       0.00      0.00      0.00         1\n",
      "        11.5       0.00      0.00      0.00         0\n",
      "       11.75       0.00      0.00      0.00         1\n",
      "       14.73       0.00      0.00      0.00         1\n",
      "          16       0.00      0.00      0.00         1\n",
      "       18.75       0.00      0.00      0.00         1\n",
      "       19.99       0.00      0.00      0.00         0\n",
      "           2       0.00      0.00      0.00         1\n",
      "        2.25       0.00      0.00      0.00         2\n",
      "         2.5       0.00      0.00      0.00         0\n",
      "        2.55       0.00      0.00      0.00         1\n",
      "        2.65       0.00      0.00      0.00         2\n",
      "         2.7       0.00      0.00      0.00         1\n",
      "        2.75       0.00      0.00      0.00         2\n",
      "         2.9       0.00      0.00      0.00         2\n",
      "        2.95       0.00      0.00      0.00         0\n",
      "       20.75       0.00      0.00      0.00         1\n",
      "          23       0.50      1.00      0.67         2\n",
      "        23.5       0.00      0.00      0.00         1\n",
      "           3       0.00      0.00      0.00         2\n",
      "         3.1       0.00      0.00      0.00         0\n",
      "        3.15       0.00      0.00      0.00         1\n",
      "        3.25       0.00      0.00      0.00         0\n",
      "        3.35       0.00      0.00      0.00         0\n",
      "        3.45       0.00      0.00      0.00         1\n",
      "         3.5       0.00      0.00      0.00         0\n",
      "        3.51       0.00      0.00      0.00         0\n",
      "         3.6       0.00      0.00      0.00         1\n",
      "        3.75       0.00      0.00      0.00         2\n",
      "         3.8       0.00      0.00      0.00         0\n",
      "         3.9       0.00      0.00      0.00         1\n",
      "        3.95       0.00      0.00      0.00         2\n",
      "          33       0.00      0.00      0.00         0\n",
      "          35       0.00      0.00      0.00         0\n",
      "           4       0.00      0.00      0.00         1\n",
      "         4.1       0.00      0.00      0.00         1\n",
      "        4.15       0.00      0.00      0.00         1\n",
      "         4.4       0.00      0.00      0.00         0\n",
      "         4.5       0.08      1.00      0.15         1\n",
      "         4.6       0.00      0.00      0.00         1\n",
      "        4.65       0.00      0.00      0.00         1\n",
      "        4.75       0.00      0.00      0.00         2\n",
      "        4.85       0.00      0.00      0.00         1\n",
      "         4.9       0.00      0.00      0.00         1\n",
      "        4.95       0.00      0.00      0.00         1\n",
      "           5       0.00      0.00      0.00         1\n",
      "        5.11       0.00      0.00      0.00         1\n",
      "         5.2       0.00      0.00      0.00         1\n",
      "        5.25       0.33      0.33      0.33         3\n",
      "         5.3       0.00      0.00      0.00         2\n",
      "        5.35       0.00      0.00      0.00         1\n",
      "         5.4       0.00      0.00      0.00         2\n",
      "         5.5       0.25      1.00      0.40         1\n",
      "        5.65       0.00      0.00      0.00         1\n",
      "        5.75       0.00      0.00      0.00         1\n",
      "        5.95       0.00      0.00      0.00         2\n",
      "           6       0.00      0.00      0.00         2\n",
      "         6.1       0.00      0.00      0.00         0\n",
      "        6.15       0.00      0.00      0.00         0\n",
      "        6.25       0.00      0.00      0.00         0\n",
      "        6.45       0.00      0.00      0.00         1\n",
      "         6.5       0.00      0.00      0.00         1\n",
      "         6.6       0.00      0.00      0.00         1\n",
      "         6.7       0.00      0.00      0.00         1\n",
      "        6.75       0.00      0.00      0.00         1\n",
      "        6.85       0.00      0.00      0.00         1\n",
      "        7.05       0.00      0.00      0.00         0\n",
      "         7.2       0.00      0.00      0.00         1\n",
      "        7.25       0.00      0.00      0.00         0\n",
      "         7.4       0.00      0.00      0.00         1\n",
      "        7.45       0.00      0.00      0.00         1\n",
      "         7.5       0.00      0.00      0.00         1\n",
      "        7.75       1.00      1.00      1.00         1\n",
      "         7.9       0.00      0.00      0.00         1\n",
      "        8.35       0.00      0.00      0.00         0\n",
      "         8.4       0.00      0.00      0.00         0\n",
      "         8.5       0.00      0.00      0.00         0\n",
      "        8.55       0.00      0.00      0.00         1\n",
      "        8.99       0.00      0.00      0.00         1\n",
      "         9.1       0.00      0.00      0.00         1\n",
      "        9.15       0.00      0.00      0.00         1\n",
      "        9.25       0.00      0.00      0.00         1\n",
      "\n",
      "    accuracy                           0.09       121\n",
      "   macro avg       0.03      0.06      0.04       121\n",
      "weighted avg       0.05      0.09      0.06       121\n",
      "\n"
     ]
    },
    {
     "name": "stderr",
     "output_type": "stream",
     "text": [
      "C:\\Users\\kanga\\anaconda3\\envs\\data\\lib\\site-packages\\sklearn\\metrics\\_classification.py:1344: UndefinedMetricWarning: Precision and F-score are ill-defined and being set to 0.0 in labels with no predicted samples. Use `zero_division` parameter to control this behavior.\n",
      "  _warn_prf(average, modifier, msg_start, len(result))\n",
      "C:\\Users\\kanga\\anaconda3\\envs\\data\\lib\\site-packages\\sklearn\\metrics\\_classification.py:1344: UndefinedMetricWarning: Recall and F-score are ill-defined and being set to 0.0 in labels with no true samples. Use `zero_division` parameter to control this behavior.\n",
      "  _warn_prf(average, modifier, msg_start, len(result))\n",
      "C:\\Users\\kanga\\anaconda3\\envs\\data\\lib\\site-packages\\sklearn\\metrics\\_classification.py:1344: UndefinedMetricWarning: Precision and F-score are ill-defined and being set to 0.0 in labels with no predicted samples. Use `zero_division` parameter to control this behavior.\n",
      "  _warn_prf(average, modifier, msg_start, len(result))\n",
      "C:\\Users\\kanga\\anaconda3\\envs\\data\\lib\\site-packages\\sklearn\\metrics\\_classification.py:1344: UndefinedMetricWarning: Recall and F-score are ill-defined and being set to 0.0 in labels with no true samples. Use `zero_division` parameter to control this behavior.\n",
      "  _warn_prf(average, modifier, msg_start, len(result))\n",
      "C:\\Users\\kanga\\anaconda3\\envs\\data\\lib\\site-packages\\sklearn\\metrics\\_classification.py:1344: UndefinedMetricWarning: Precision and F-score are ill-defined and being set to 0.0 in labels with no predicted samples. Use `zero_division` parameter to control this behavior.\n",
      "  _warn_prf(average, modifier, msg_start, len(result))\n",
      "C:\\Users\\kanga\\anaconda3\\envs\\data\\lib\\site-packages\\sklearn\\metrics\\_classification.py:1344: UndefinedMetricWarning: Recall and F-score are ill-defined and being set to 0.0 in labels with no true samples. Use `zero_division` parameter to control this behavior.\n",
      "  _warn_prf(average, modifier, msg_start, len(result))\n"
     ]
    }
   ],
   "source": [
    "from sklearn.metrics import classification_report\n",
    "print(classification_report(y_test,y_pred))"
   ]
  },
  {
   "cell_type": "code",
   "execution_count": 31,
   "id": "e9497d72",
   "metadata": {},
   "outputs": [
    {
     "data": {
      "text/html": [
       "<div>\n",
       "<style scoped>\n",
       "    .dataframe tbody tr th:only-of-type {\n",
       "        vertical-align: middle;\n",
       "    }\n",
       "\n",
       "    .dataframe tbody tr th {\n",
       "        vertical-align: top;\n",
       "    }\n",
       "\n",
       "    .dataframe thead th {\n",
       "        text-align: right;\n",
       "    }\n",
       "</style>\n",
       "<table border=\"1\" class=\"dataframe\">\n",
       "  <thead>\n",
       "    <tr style=\"text-align: right;\">\n",
       "      <th></th>\n",
       "      <th>Car_Name</th>\n",
       "      <th>Year</th>\n",
       "      <th>Present_Price</th>\n",
       "      <th>Kms_Driven</th>\n",
       "      <th>Fuel_Type</th>\n",
       "      <th>Seller_Type</th>\n",
       "      <th>Transmission</th>\n",
       "      <th>Owner</th>\n",
       "    </tr>\n",
       "  </thead>\n",
       "  <tbody>\n",
       "    <tr>\n",
       "      <th>225</th>\n",
       "      <td>95</td>\n",
       "      <td>10</td>\n",
       "      <td>139</td>\n",
       "      <td>99</td>\n",
       "      <td>3</td>\n",
       "      <td>0</td>\n",
       "      <td>0</td>\n",
       "      <td>0</td>\n",
       "    </tr>\n",
       "  </tbody>\n",
       "</table>\n",
       "</div>"
      ],
      "text/plain": [
       "     Car_Name  Year  Present_Price  Kms_Driven  Fuel_Type  Seller_Type  \\\n",
       "225        95    10            139          99          3            0   \n",
       "\n",
       "     Transmission  Owner  \n",
       "225             0      0  "
      ]
     },
     "execution_count": 31,
     "metadata": {},
     "output_type": "execute_result"
    }
   ],
   "source": [
    "X_test[0:1]"
   ]
  },
  {
   "cell_type": "code",
   "execution_count": 32,
   "id": "8f4cd26e",
   "metadata": {},
   "outputs": [
    {
     "data": {
      "text/plain": [
       "array(['4.5'], dtype=object)"
      ]
     },
     "execution_count": 32,
     "metadata": {},
     "output_type": "execute_result"
    }
   ],
   "source": [
    "result=Classifier.predict(X_test[0:1])\n",
    "result"
   ]
  },
  {
   "cell_type": "code",
   "execution_count": null,
   "id": "67eaec58",
   "metadata": {},
   "outputs": [],
   "source": []
  }
 ],
 "metadata": {
  "kernelspec": {
   "display_name": "Python 3 (ipykernel)",
   "language": "python",
   "name": "python3"
  },
  "language_info": {
   "codemirror_mode": {
    "name": "ipython",
    "version": 3
   },
   "file_extension": ".py",
   "mimetype": "text/x-python",
   "name": "python",
   "nbconvert_exporter": "python",
   "pygments_lexer": "ipython3",
   "version": "3.9.16"
  }
 },
 "nbformat": 4,
 "nbformat_minor": 5
}
